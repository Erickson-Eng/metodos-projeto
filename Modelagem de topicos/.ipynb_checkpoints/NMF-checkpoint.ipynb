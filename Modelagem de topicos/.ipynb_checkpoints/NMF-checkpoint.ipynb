{
 "cells": [
  {
   "cell_type": "code",
   "execution_count": 145,
   "id": "6d64533d",
   "metadata": {},
   "outputs": [],
   "source": [
    "import numpy as np\n",
    "from sklearn import decomposition\n",
    "from scipy import linalg\n",
    "import matplotlib.pyplot as plt\n",
    "import pandas as pd\n",
    "import nltk\n",
    "import gensim"
   ]
  },
  {
   "cell_type": "code",
   "execution_count": 146,
   "id": "a70ac4d7",
   "metadata": {},
   "outputs": [],
   "source": [
    "%matplotlib inline\n",
    "np.set_printoptions(suppress=True)"
   ]
  },
  {
   "cell_type": "code",
   "execution_count": 147,
   "id": "3f6df013",
   "metadata": {},
   "outputs": [
    {
     "data": {
      "text/html": [
       "<div>\n",
       "<style scoped>\n",
       "    .dataframe tbody tr th:only-of-type {\n",
       "        vertical-align: middle;\n",
       "    }\n",
       "\n",
       "    .dataframe tbody tr th {\n",
       "        vertical-align: top;\n",
       "    }\n",
       "\n",
       "    .dataframe thead th {\n",
       "        text-align: right;\n",
       "    }\n",
       "</style>\n",
       "<table border=\"1\" class=\"dataframe\">\n",
       "  <thead>\n",
       "    <tr style=\"text-align: right;\">\n",
       "      <th></th>\n",
       "      <th>Id</th>\n",
       "      <th>Channel</th>\n",
       "      <th>Subscribers</th>\n",
       "      <th>Title</th>\n",
       "      <th>CC</th>\n",
       "      <th>URL</th>\n",
       "      <th>Released</th>\n",
       "      <th>Views</th>\n",
       "      <th>Category</th>\n",
       "      <th>Transcript</th>\n",
       "      <th>Length</th>\n",
       "    </tr>\n",
       "  </thead>\n",
       "  <tbody>\n",
       "    <tr>\n",
       "      <th>0</th>\n",
       "      <td>FozCkl1xj-w</td>\n",
       "      <td>JRE Clips</td>\n",
       "      <td>6.28M subscribers</td>\n",
       "      <td>Former CIA Agent Breaks Down Jeffrey Epstein Case</td>\n",
       "      <td>0</td>\n",
       "      <td>https://www.youtube.com/watch?v=FozCkl1xj-w</td>\n",
       "      <td>2 years ago</td>\n",
       "      <td>7.9M views</td>\n",
       "      <td>Blog</td>\n",
       "      <td>the Joe Rogan experience well how about the ot...</td>\n",
       "      <td>13:32</td>\n",
       "    </tr>\n",
       "    <tr>\n",
       "      <th>1</th>\n",
       "      <td>RN8yoi-e2yc</td>\n",
       "      <td>Mythical Kitchen</td>\n",
       "      <td>1.9M subscribers</td>\n",
       "      <td>$420 Pizza Hut Stuffed Crust Pizza | Fancy Fas...</td>\n",
       "      <td>1</td>\n",
       "      <td>https://www.youtube.com/watch?v=RN8yoi-e2yc</td>\n",
       "      <td>NaN</td>\n",
       "      <td>2.7M views</td>\n",
       "      <td>Food</td>\n",
       "      <td>- Oh, that's dirty.\\r\\n- Wow! - Whoa.\\r\\n- You...</td>\n",
       "      <td>24:26</td>\n",
       "    </tr>\n",
       "    <tr>\n",
       "      <th>2</th>\n",
       "      <td>IugcIAAZJ2M</td>\n",
       "      <td>Munchies</td>\n",
       "      <td>4.59M subscribers</td>\n",
       "      <td>The Iconic $1 Pizza Slice of NYC | Street Food...</td>\n",
       "      <td>0</td>\n",
       "      <td>https://www.youtube.com/watch?v=IugcIAAZJ2M</td>\n",
       "      <td>2 years ago</td>\n",
       "      <td>11M views</td>\n",
       "      <td>Food</td>\n",
       "      <td>if you want good pizza come to st marks it's t...</td>\n",
       "      <td>7:51</td>\n",
       "    </tr>\n",
       "    <tr>\n",
       "      <th>3</th>\n",
       "      <td>JiEO6F8i0eU</td>\n",
       "      <td>Parks and Recreation</td>\n",
       "      <td>282K subscribers</td>\n",
       "      <td>Ron Swanson: The Papa of Pawnee | Parks and Re...</td>\n",
       "      <td>0</td>\n",
       "      <td>https://www.youtube.com/watch?v=JiEO6F8i0eU</td>\n",
       "      <td>3 years ago</td>\n",
       "      <td>2.3M views</td>\n",
       "      <td>Entertainment,Comedy</td>\n",
       "      <td>April where have you been over two phone calls...</td>\n",
       "      <td>10:06</td>\n",
       "    </tr>\n",
       "    <tr>\n",
       "      <th>4</th>\n",
       "      <td>1T4XMNN4bNM</td>\n",
       "      <td>Vsauce</td>\n",
       "      <td>17.4M subscribers</td>\n",
       "      <td>What's The Most Dangerous Place on Earth?</td>\n",
       "      <td>1</td>\n",
       "      <td>https://www.youtube.com/watch?v=1T4XMNN4bNM</td>\n",
       "      <td>9 years ago</td>\n",
       "      <td>21M views</td>\n",
       "      <td>Science</td>\n",
       "      <td>Hey, Vsauce. Michael here. 93% of all the\\r\\nh...</td>\n",
       "      <td>9:29</td>\n",
       "    </tr>\n",
       "    <tr>\n",
       "      <th>...</th>\n",
       "      <td>...</td>\n",
       "      <td>...</td>\n",
       "      <td>...</td>\n",
       "      <td>...</td>\n",
       "      <td>...</td>\n",
       "      <td>...</td>\n",
       "      <td>...</td>\n",
       "      <td>...</td>\n",
       "      <td>...</td>\n",
       "      <td>...</td>\n",
       "      <td>...</td>\n",
       "    </tr>\n",
       "    <tr>\n",
       "      <th>2510</th>\n",
       "      <td>DonD68byO0o</td>\n",
       "      <td>Parks and Recreation</td>\n",
       "      <td>282K subscribers</td>\n",
       "      <td>Best of Andy Dwyer | Parks and Recreation</td>\n",
       "      <td>0</td>\n",
       "      <td>https://www.youtube.com/watch?v=DonD68byO0o</td>\n",
       "      <td>3 years ago</td>\n",
       "      <td>2.8M views</td>\n",
       "      <td>Entertainment,Comedy</td>\n",
       "      <td>oh I guess while you get your medicine I'll ju...</td>\n",
       "      <td>10:05</td>\n",
       "    </tr>\n",
       "    <tr>\n",
       "      <th>2511</th>\n",
       "      <td>iaEcZW0eyEg</td>\n",
       "      <td>Hell's Kitchen</td>\n",
       "      <td>1.5M subscribers</td>\n",
       "      <td>Gordon Ramsay's Most Savage Moments | Hell's K...</td>\n",
       "      <td>0</td>\n",
       "      <td>https://www.youtube.com/watch?v=iaEcZW0eyEg</td>\n",
       "      <td>11 months ago</td>\n",
       "      <td>6.4M views</td>\n",
       "      <td>Food</td>\n",
       "      <td>southern girl keisha hopes to get the women on...</td>\n",
       "      <td>8:33</td>\n",
       "    </tr>\n",
       "    <tr>\n",
       "      <th>2512</th>\n",
       "      <td>sW9npZVpiMI</td>\n",
       "      <td>Joma Tech</td>\n",
       "      <td>1.59M subscribers</td>\n",
       "      <td>why you NEED math for programming</td>\n",
       "      <td>0</td>\n",
       "      <td>https://www.youtube.com/watch?v=sW9npZVpiMI</td>\n",
       "      <td>NaN</td>\n",
       "      <td>4.5M views</td>\n",
       "      <td>Tech,Comedy</td>\n",
       "      <td>[Music] okay [Music] jesus nope not jesus it's...</td>\n",
       "      <td>5:03</td>\n",
       "    </tr>\n",
       "    <tr>\n",
       "      <th>2513</th>\n",
       "      <td>yl3MiR7XXAM</td>\n",
       "      <td>jacksepticeye</td>\n",
       "      <td>28M subscribers</td>\n",
       "      <td>Happy Wheels - Part 1 | THIS GAME IS MY BITCH</td>\n",
       "      <td>1</td>\n",
       "      <td>https://www.youtube.com/watch?v=yl3MiR7XXAM</td>\n",
       "      <td>8 years ago</td>\n",
       "      <td>20M views</td>\n",
       "      <td>VideoGames</td>\n",
       "      <td>Top o' the mornin' to ya, laddies! My name i...</td>\n",
       "      <td>13:32</td>\n",
       "    </tr>\n",
       "    <tr>\n",
       "      <th>2514</th>\n",
       "      <td>dJfSS0ZXYdo</td>\n",
       "      <td>Top Gear</td>\n",
       "      <td>8.24M subscribers</td>\n",
       "      <td>The Smallest Car in the World at the BBC - Top...</td>\n",
       "      <td>1</td>\n",
       "      <td>https://www.youtube.com/watch?v=dJfSS0ZXYdo</td>\n",
       "      <td>13 years ago</td>\n",
       "      <td>26M views</td>\n",
       "      <td>Automobile,Comedy</td>\n",
       "      <td>And there's more, because as the country\\r\\nbe...</td>\n",
       "      <td>8:58</td>\n",
       "    </tr>\n",
       "  </tbody>\n",
       "</table>\n",
       "<p>2515 rows × 11 columns</p>\n",
       "</div>"
      ],
      "text/plain": [
       "               Id               Channel        Subscribers  \\\n",
       "0     FozCkl1xj-w             JRE Clips  6.28M subscribers   \n",
       "1     RN8yoi-e2yc      Mythical Kitchen   1.9M subscribers   \n",
       "2     IugcIAAZJ2M              Munchies  4.59M subscribers   \n",
       "3     JiEO6F8i0eU  Parks and Recreation   282K subscribers   \n",
       "4     1T4XMNN4bNM                Vsauce  17.4M subscribers   \n",
       "...           ...                   ...                ...   \n",
       "2510  DonD68byO0o  Parks and Recreation   282K subscribers   \n",
       "2511  iaEcZW0eyEg        Hell's Kitchen   1.5M subscribers   \n",
       "2512  sW9npZVpiMI             Joma Tech  1.59M subscribers   \n",
       "2513  yl3MiR7XXAM         jacksepticeye    28M subscribers   \n",
       "2514  dJfSS0ZXYdo              Top Gear  8.24M subscribers   \n",
       "\n",
       "                                                  Title  CC  \\\n",
       "0     Former CIA Agent Breaks Down Jeffrey Epstein Case   0   \n",
       "1     $420 Pizza Hut Stuffed Crust Pizza | Fancy Fas...   1   \n",
       "2     The Iconic $1 Pizza Slice of NYC | Street Food...   0   \n",
       "3     Ron Swanson: The Papa of Pawnee | Parks and Re...   0   \n",
       "4             What's The Most Dangerous Place on Earth?   1   \n",
       "...                                                 ...  ..   \n",
       "2510          Best of Andy Dwyer | Parks and Recreation   0   \n",
       "2511  Gordon Ramsay's Most Savage Moments | Hell's K...   0   \n",
       "2512                  why you NEED math for programming   0   \n",
       "2513      Happy Wheels - Part 1 | THIS GAME IS MY BITCH   1   \n",
       "2514  The Smallest Car in the World at the BBC - Top...   1   \n",
       "\n",
       "                                              URL       Released       Views  \\\n",
       "0     https://www.youtube.com/watch?v=FozCkl1xj-w    2 years ago  7.9M views   \n",
       "1     https://www.youtube.com/watch?v=RN8yoi-e2yc            NaN  2.7M views   \n",
       "2     https://www.youtube.com/watch?v=IugcIAAZJ2M    2 years ago   11M views   \n",
       "3     https://www.youtube.com/watch?v=JiEO6F8i0eU    3 years ago  2.3M views   \n",
       "4     https://www.youtube.com/watch?v=1T4XMNN4bNM    9 years ago   21M views   \n",
       "...                                           ...            ...         ...   \n",
       "2510  https://www.youtube.com/watch?v=DonD68byO0o    3 years ago  2.8M views   \n",
       "2511  https://www.youtube.com/watch?v=iaEcZW0eyEg  11 months ago  6.4M views   \n",
       "2512  https://www.youtube.com/watch?v=sW9npZVpiMI            NaN  4.5M views   \n",
       "2513  https://www.youtube.com/watch?v=yl3MiR7XXAM    8 years ago   20M views   \n",
       "2514  https://www.youtube.com/watch?v=dJfSS0ZXYdo   13 years ago   26M views   \n",
       "\n",
       "                  Category                                         Transcript  \\\n",
       "0                     Blog  the Joe Rogan experience well how about the ot...   \n",
       "1                     Food  - Oh, that's dirty.\\r\\n- Wow! - Whoa.\\r\\n- You...   \n",
       "2                     Food  if you want good pizza come to st marks it's t...   \n",
       "3     Entertainment,Comedy  April where have you been over two phone calls...   \n",
       "4                  Science  Hey, Vsauce. Michael here. 93% of all the\\r\\nh...   \n",
       "...                    ...                                                ...   \n",
       "2510  Entertainment,Comedy  oh I guess while you get your medicine I'll ju...   \n",
       "2511                  Food  southern girl keisha hopes to get the women on...   \n",
       "2512           Tech,Comedy  [Music] okay [Music] jesus nope not jesus it's...   \n",
       "2513            VideoGames    Top o' the mornin' to ya, laddies! My name i...   \n",
       "2514     Automobile,Comedy  And there's more, because as the country\\r\\nbe...   \n",
       "\n",
       "     Length  \n",
       "0     13:32  \n",
       "1     24:26  \n",
       "2      7:51  \n",
       "3     10:06  \n",
       "4      9:29  \n",
       "...     ...  \n",
       "2510  10:05  \n",
       "2511   8:33  \n",
       "2512   5:03  \n",
       "2513  13:32  \n",
       "2514   8:58  \n",
       "\n",
       "[2515 rows x 11 columns]"
      ]
     },
     "execution_count": 147,
     "metadata": {},
     "output_type": "execute_result"
    }
   ],
   "source": [
    "data = pd.read_csv('data.csv')\n",
    "data"
   ]
  },
  {
   "cell_type": "code",
   "execution_count": 148,
   "id": "c44c7248",
   "metadata": {},
   "outputs": [
    {
     "data": {
      "text/plain": [
       "0       [Former, CIA, Agent, Breaks, Down, Jeffrey, Ep...\n",
       "1       [$420, Pizza, Hut, Stuffed, Crust, Pizza, |, F...\n",
       "2       [The, Iconic, $1, Pizza, Slice, of, NYC, |, St...\n",
       "3       [Ron, Swanson:, The, Papa, of, Pawnee, |, Park...\n",
       "4       [What's, The, Most, Dangerous, Place, on, Earth?]\n",
       "                              ...                        \n",
       "2510    [Best, of, Andy, Dwyer, |, Parks, and, Recreat...\n",
       "2511    [Gordon, Ramsay's, Most, Savage, Moments, |, H...\n",
       "2512             [why, you, NEED, math, for, programming]\n",
       "2513    [Happy, Wheels, -, Part, 1, |, THIS, GAME, IS,...\n",
       "2514    [The, Smallest, Car, in, the, World, at, the, ...\n",
       "Name: Title, Length: 2515, dtype: object"
      ]
     },
     "execution_count": 148,
     "metadata": {},
     "output_type": "execute_result"
    }
   ],
   "source": [
    "data = data.Title.str.split(\" \")\n",
    "data"
   ]
  },
  {
   "cell_type": "code",
   "execution_count": 149,
   "id": "d96e40d7",
   "metadata": {},
   "outputs": [
    {
     "name": "stderr",
     "output_type": "stream",
     "text": [
      "[nltk_data] Downloading package wordnet to\n",
      "[nltk_data]     C:\\Users\\Erickson\\AppData\\Roaming\\nltk_data...\n",
      "[nltk_data]   Package wordnet is already up-to-date!\n",
      "[nltk_data] Downloading package stopwords to\n",
      "[nltk_data]     C:\\Users\\Erickson\\AppData\\Roaming\\nltk_data...\n",
      "[nltk_data]   Package stopwords is already up-to-date!\n"
     ]
    },
    {
     "data": {
      "text/plain": [
       "True"
      ]
     },
     "execution_count": 149,
     "metadata": {},
     "output_type": "execute_result"
    }
   ],
   "source": [
    "from nltk.stem import WordNetLemmatizer\n",
    "nltk.download('wordnet')\n",
    "nltk.download('stopwords')"
   ]
  },
  {
   "cell_type": "code",
   "execution_count": 150,
   "id": "0f1aafb7",
   "metadata": {},
   "outputs": [],
   "source": [
    "lemma = WordNetLemmatizer()"
   ]
  },
  {
   "cell_type": "code",
   "execution_count": 151,
   "id": "55377510",
   "metadata": {},
   "outputs": [
    {
     "data": {
      "text/plain": [
       "0       [Former, CIA, Agent, Breaks, Down, Jeffrey, Ep...\n",
       "1       [$420, Pizza, Hut, Stuffed, Crust, Pizza, |, F...\n",
       "2       [The, Iconic, $1, Pizza, Slice, of, NYC, |, St...\n",
       "3       [Ron, Swanson:, The, Papa, of, Pawnee, |, Park...\n",
       "4       [What's, The, Most, Dangerous, Place, on, Earth?]\n",
       "                              ...                        \n",
       "2510    [Best, of, Andy, Dwyer, |, Parks, and, Recreat...\n",
       "2511    [Gordon, Ramsay's, Most, Savage, Moments, |, H...\n",
       "2512             [why, you, NEED, math, for, programming]\n",
       "2513    [Happy, Wheels, -, Part, 1, |, THIS, GAME, IS,...\n",
       "2514    [The, Smallest, Car, in, the, World, at, the, ...\n",
       "Name: Title, Length: 2515, dtype: object"
      ]
     },
     "execution_count": 151,
     "metadata": {},
     "output_type": "execute_result"
    }
   ],
   "source": [
    "data = data.apply(lambda doc: [lemma.lemmatize(word) for word in doc])\n",
    "data"
   ]
  },
  {
   "cell_type": "code",
   "execution_count": 152,
   "id": "71b0a657",
   "metadata": {},
   "outputs": [],
   "source": [
    "from nltk.corpus import stopwords"
   ]
  },
  {
   "cell_type": "code",
   "execution_count": 153,
   "id": "2415de7f",
   "metadata": {},
   "outputs": [],
   "source": [
    "swords = stopwords.words('english')"
   ]
  },
  {
   "cell_type": "code",
   "execution_count": 154,
   "id": "362c1b41",
   "metadata": {},
   "outputs": [
    {
     "data": {
      "text/plain": [
       "0       [Former, CIA, Agent, Breaks, Down, Jeffrey, Ep...\n",
       "1       [$420, Pizza, Hut, Stuffed, Crust, Pizza, |, F...\n",
       "2       [The, Iconic, $1, Pizza, Slice, NYC, |, Street...\n",
       "3       [Ron, Swanson:, The, Papa, Pawnee, |, Parks, R...\n",
       "4           [What's, The, Most, Dangerous, Place, Earth?]\n",
       "                              ...                        \n",
       "2510            [Best, Andy, Dwyer, |, Parks, Recreation]\n",
       "2511    [Gordon, Ramsay's, Most, Savage, Moments, |, H...\n",
       "2512                            [NEED, math, programming]\n",
       "2513    [Happy, Wheels, -, Part, 1, |, THIS, GAME, IS,...\n",
       "2514    [The, Smallest, Car, World, BBC, -, Top, Gear,...\n",
       "Name: Title, Length: 2515, dtype: object"
      ]
     },
     "execution_count": 154,
     "metadata": {},
     "output_type": "execute_result"
    }
   ],
   "source": [
    "data = data.apply(lambda doc: [word for word in doc if word not in swords])\n",
    "data"
   ]
  },
  {
   "cell_type": "code",
   "execution_count": 155,
   "id": "b8d649cd",
   "metadata": {},
   "outputs": [],
   "source": [
    "from gensim.corpora.dictionary import Dictionary"
   ]
  },
  {
   "cell_type": "code",
   "execution_count": 156,
   "id": "afffe61a",
   "metadata": {},
   "outputs": [],
   "source": [
    "dct = Dictionary(data)"
   ]
  },
  {
   "cell_type": "code",
   "execution_count": 157,
   "id": "28132fdf",
   "metadata": {},
   "outputs": [],
   "source": [
    "dct.filter_extremes(no_below=5, no_above=0.5)"
   ]
  },
  {
   "cell_type": "code",
   "execution_count": 158,
   "id": "94415bac",
   "metadata": {},
   "outputs": [
    {
     "data": {
      "text/plain": [
       "635"
      ]
     },
     "execution_count": 158,
     "metadata": {},
     "output_type": "execute_result"
    }
   ],
   "source": [
    "len(dct.token2id)"
   ]
  },
  {
   "cell_type": "code",
   "execution_count": 159,
   "id": "d35b0266",
   "metadata": {},
   "outputs": [
    {
     "data": {
      "text/plain": [
       "0                                        [(0, 1), (1, 1)]\n",
       "1       [(2, 1), (3, 1), (4, 1), (5, 1), (6, 1), (7, 2...\n",
       "2               [(4, 1), (7, 1), (8, 1), (9, 1), (10, 1)]\n",
       "3            [(8, 1), (10, 1), (11, 1), (12, 1), (13, 1)]\n",
       "4                             [(10, 1), (14, 1), (15, 1)]\n",
       "                              ...                        \n",
       "2510                 [(8, 1), (11, 1), (12, 1), (173, 1)]\n",
       "2511    [(5, 1), (8, 2), (14, 1), (22, 1), (61, 1), (1...\n",
       "2512                                                   []\n",
       "2513    [(8, 1), (25, 1), (61, 1), (180, 1), (249, 1),...\n",
       "2514    [(10, 1), (25, 2), (98, 2), (103, 1), (119, 1)...\n",
       "Name: Title, Length: 2515, dtype: object"
      ]
     },
     "execution_count": 159,
     "metadata": {},
     "output_type": "execute_result"
    }
   ],
   "source": [
    "bow = data.apply(dct.doc2bow)\n",
    "bow"
   ]
  },
  {
   "cell_type": "code",
   "execution_count": 160,
   "id": "cf2aedf7",
   "metadata": {},
   "outputs": [],
   "source": [
    "from gensim.models import LdaModel"
   ]
  },
  {
   "cell_type": "code",
   "execution_count": 161,
   "id": "d451ba50",
   "metadata": {},
   "outputs": [],
   "source": [
    "lda = LdaModel(bow, num_topics=20, id2word=dct)"
   ]
  },
  {
   "cell_type": "code",
   "execution_count": 162,
   "id": "f89cbb2f",
   "metadata": {},
   "outputs": [
    {
     "name": "stdout",
     "output_type": "stream",
     "text": [
      "Topic_0 0.053*\"|\" + 0.050*\"Spicy\" + 0.045*\"Hot\" + 0.044*\"While\" + 0.042*\"Wings\" + 0.042*\"Eating\" + 0.041*\"Ones\" + 0.034*\"The\" + 0.030*\"Voice\" + 0.024*\"6\"\n",
      "\n",
      "Topic_1 0.092*\"|\" + 0.065*\"-\" + 0.031*\"Rogan\" + 0.031*\"Joe\" + 0.025*\"1\" + 0.024*\"#1\" + 0.020*\"Fridman\" + 0.020*\"Lex\" + 0.019*\"Gaming\" + 0.018*\"Part\"\n",
      "\n",
      "Topic_2 0.157*\"-\" + 0.080*\"The\" + 0.043*\"&\" + 0.036*\"Peele\" + 0.036*\"Key\" + 0.034*\"|\" + 0.022*\"US\" + 0.020*\"BBC\" + 0.017*\"It\" + 0.016*\"Office\"\n",
      "\n",
      "Topic_3 0.119*\"|\" + 0.036*\"&\" + 0.033*\"Hell's\" + 0.032*\"Kitchen\" + 0.022*\"James\" + 0.022*\"Is\" + 0.022*\"Fast\" + 0.020*\"Building\" + 0.020*\"Ones\" + 0.019*\"While\"\n",
      "\n",
      "Topic_4 0.052*\"10\" + 0.039*\"This\" + 0.035*\"In\" + 0.035*\"-\" + 0.034*\"Minutes\" + 0.033*\"That\" + 0.027*\"Is\" + 0.026*\"How\" + 0.024*\"Black\" + 0.023*\"The\"\n",
      "\n",
      "Topic_5 0.100*\"-\" + 0.076*\"The\" + 0.044*\"OverSimplified\" + 0.038*\"(Part\" + 0.034*\"Honest\" + 0.034*\"Trailers\" + 0.032*\"Making\" + 0.031*\"2)\" + 0.020*\"SHROUD\" + 0.019*\"I\"\n",
      "\n",
      "Topic_6 0.108*\"|\" + 0.067*\"The\" + 0.059*\"What\" + 0.047*\"Doctor\" + 0.034*\"CONAN\" + 0.034*\"TBS\" + 0.033*\"As\" + 0.029*\"Conan\" + 0.024*\"You\" + 0.021*\"Who\"\n",
      "\n",
      "Topic_7 0.078*\"The\" + 0.046*\"|\" + 0.043*\"Show\" + 0.029*\"Daily\" + 0.027*\"Pizza\" + 0.026*\"Buy\" + 0.025*\"Awesome\" + 0.025*\"vs.\" + 0.022*\"You\" + 0.019*\"Car\"\n",
      "\n",
      "Topic_8 0.049*\"Building\" + 0.040*\"The\" + 0.035*\"|\" + 0.033*\"Taste\" + 0.032*\"10\" + 0.032*\"Test\" + 0.031*\"JavaScript\" + 0.029*\"Wars\" + 0.022*\"Things\" + 0.021*\"We\"\n",
      "\n",
      "Topic_9 0.053*\"|\" + 0.052*\"Parks\" + 0.051*\"The\" + 0.051*\"Recreation\" + 0.046*\"Some\" + 0.044*\"Good\" + 0.042*\"News\" + 0.028*\"-\" + 0.027*\"John\" + 0.023*\"Vs.\"\n",
      "\n",
      "Topic_10 0.048*\"v\" + 0.039*\"Your\" + 0.031*\"I\" + 0.025*\"&\" + 0.023*\"//\" + 0.023*\"KSI\" + 0.022*\"-\" + 0.022*\"4\" + 0.022*\"The\" + 0.018*\"|\"\n",
      "\n",
      "Topic_11 0.105*\"|\" + 0.085*\"How\" + 0.029*\"Travel\" + 0.026*\"The\" + 0.026*\"5\" + 0.025*\"Digital\" + 0.024*\"All\" + 0.023*\"Time\" + 0.018*\"PBS\" + 0.018*\"Studios\"\n",
      "\n",
      "Topic_12 0.101*\"v\" + 0.062*\"The\" + 0.034*\"|\" + 0.029*\"May's\" + 0.028*\"&\" + 0.026*\"Guys\" + 0.025*\"Try\" + 0.025*\"-\" + 0.022*\"James\" + 0.021*\"BMW\"\n",
      "\n",
      "Topic_13 0.222*\"|\" + 0.049*\"Top\" + 0.048*\"Gear\" + 0.046*\"The\" + 0.038*\"Nine-Nine\" + 0.038*\"Brooklyn\" + 0.027*\"BBC\" + 0.025*\"Gordon\" + 0.023*\"Ramsay\" + 0.022*\"Stig\"\n",
      "\n",
      "Topic_14 0.086*\"-\" + 0.083*\"The\" + 0.037*\"Every\" + 0.035*\"Day\" + 0.032*\"Smarter\" + 0.028*\"|\" + 0.020*\"A\" + 0.018*\"Five\" + 0.018*\"Nights\" + 0.018*\"Freddy's\"\n",
      "\n",
      "Topic_15 0.101*\"-\" + 0.055*\"Why\" + 0.052*\"The\" + 0.023*\"How\" + 0.019*\"Super\" + 0.018*\"Show\" + 0.016*\"|\" + 0.015*\"Daily\" + 0.015*\"Dark\" + 0.014*\"Galaxy\"\n",
      "\n",
      "Topic_16 0.142*\"|\" + 0.042*\"Gourmet\" + 0.038*\"Bon\" + 0.034*\"Appétit\" + 0.033*\"Make\" + 0.028*\"Test\" + 0.025*\"Chef\" + 0.024*\"FOOD\" + 0.023*\"Taste\" + 0.022*\"Makes\"\n",
      "\n",
      "Topic_17 0.179*\"The\" + 0.081*\"|\" + 0.023*\"With\" + 0.023*\"F\" + 0.023*\"Word\" + 0.023*\"Games\" + 0.022*\"Foxy\" + 0.017*\"Tour\" + 0.015*\"Clarkson\" + 0.014*\"A\"\n",
      "\n",
      "Topic_18 0.096*\"|\" + 0.060*\"The\" + 0.047*\"News\" + 0.045*\"Most\" + 0.029*\"-\" + 0.029*\"Moments\" + 0.025*\"Is\" + 0.021*\"How\" + 0.021*\"A&E\" + 0.020*\"To\"\n",
      "\n",
      "Topic_19 0.101*\"I\" + 0.056*\"How\" + 0.027*\"The\" + 0.023*\"-\" + 0.023*\"From\" + 0.022*\"People\" + 0.021*\"Over\" + 0.021*\"Gets\" + 0.021*\"Face\" + 0.021*\"To\"\n",
      "\n"
     ]
    }
   ],
   "source": [
    "for i in range(20):\n",
    "    print(\"Topic_\"+str(i), lda.print_topic(i))\n",
    "    print(\"\")"
   ]
  },
  {
   "cell_type": "code",
   "execution_count": null,
   "id": "a72fa884",
   "metadata": {},
   "outputs": [],
   "source": []
  }
 ],
 "metadata": {
  "kernelspec": {
   "display_name": "Python 3 (ipykernel)",
   "language": "python",
   "name": "python3"
  },
  "language_info": {
   "codemirror_mode": {
    "name": "ipython",
    "version": 3
   },
   "file_extension": ".py",
   "mimetype": "text/x-python",
   "name": "python",
   "nbconvert_exporter": "python",
   "pygments_lexer": "ipython3",
   "version": "3.9.7"
  }
 },
 "nbformat": 4,
 "nbformat_minor": 5
}
