{
 "cells": [
  {
   "cell_type": "markdown",
   "metadata": {},
   "source": [
    "# <center>__MÉTODOS NUMÉRICOS__</center>\n",
    "## <center>__PROJETO DA UNIDADE 2__</center>\n",
    "\n",
    "#### <center>__ALUNO:__</center>"
   ]
  },
  {
   "cell_type": "markdown",
   "metadata": {},
   "source": [
    "<div class=\"alert alert-block alert-info\">\n",
    "1. INTRODUÇÃO\n",
    "</div>"
   ]
  },
  {
   "cell_type": "markdown",
   "metadata": {},
   "source": [
    "Nessa seção você deverá fazer uma introdução sobre o tema de seu projeto, apresentando as características das técnicas trabalhadas durante o trabalho."
   ]
  },
  {
   "cell_type": "markdown",
   "metadata": {},
   "source": [
    "<div class=\"alert alert-block alert-info\">\n",
    "2. DESCRIÇÃO DO PROBLEMA\n",
    "</div>"
   ]
  },
  {
   "cell_type": "markdown",
   "metadata": {},
   "source": [
    "Nessa seção você descreverá o problema que será atacado, com o máximo de precisão possível. Tente apresentar as características do problema, bem como as aplicações associadas a ele."
   ]
  },
  {
   "cell_type": "markdown",
   "metadata": {},
   "source": [
    "<div class=\"alert alert-block alert-info\">\n",
    "3. MÉTODOS APLICADOS À SOLUÇÃO\n",
    "</div>"
   ]
  },
  {
   "cell_type": "markdown",
   "metadata": {},
   "source": [
    "Nessa seção, você descreverá que métodos numéricos usará para solucionar o problema acima, explicando como esses métodos funcionam, para que tipos de problemas eles são úteis e, principalmente, porque são úteis para o problema descrito na seção anterior"
   ]
  },
  {
   "cell_type": "markdown",
   "metadata": {},
   "source": [
    "<div class=\"alert alert-block alert-info\">\n",
    "4. IMPLEMENTAÇÃO\n",
    "</div>"
   ]
  },
  {
   "cell_type": "markdown",
   "metadata": {},
   "source": [
    "Aqui você irá  mostrar sua implementação para o problema considerado, explicando o que foi feito em cada passo e cada saída de cada trecho de código, sempre relacionando com a descrição do método mostrada acima."
   ]
  },
  {
   "cell_type": "code",
   "execution_count": 75,
   "metadata": {},
   "outputs": [
    {
     "name": "stdout",
     "output_type": "stream",
     "text": [
      "Requirement already satisfied: gensim in /home/erickson/anaconda3/lib/python3.7/site-packages (4.1.2)\n",
      "Requirement already satisfied: scipy>=0.18.1 in /home/erickson/anaconda3/lib/python3.7/site-packages (from gensim) (1.4.1)\n",
      "Requirement already satisfied: numpy>=1.17.0 in /home/erickson/anaconda3/lib/python3.7/site-packages (from gensim) (1.18.1)\n",
      "Requirement already satisfied: smart-open>=1.8.1 in /home/erickson/anaconda3/lib/python3.7/site-packages (from gensim) (5.2.1)\n"
     ]
    }
   ],
   "source": [
    "!pip install gensim"
   ]
  },
  {
   "cell_type": "code",
   "execution_count": 76,
   "metadata": {},
   "outputs": [
    {
     "data": {
      "text/html": [
       "<div>\n",
       "<style scoped>\n",
       "    .dataframe tbody tr th:only-of-type {\n",
       "        vertical-align: middle;\n",
       "    }\n",
       "\n",
       "    .dataframe tbody tr th {\n",
       "        vertical-align: top;\n",
       "    }\n",
       "\n",
       "    .dataframe thead th {\n",
       "        text-align: right;\n",
       "    }\n",
       "</style>\n",
       "<table border=\"1\" class=\"dataframe\">\n",
       "  <thead>\n",
       "    <tr style=\"text-align: right;\">\n",
       "      <th></th>\n",
       "      <th>Translated_Review</th>\n",
       "      <th>Sentiment</th>\n",
       "    </tr>\n",
       "  </thead>\n",
       "  <tbody>\n",
       "    <tr>\n",
       "      <th>0</th>\n",
       "      <td>I like eat delicious food. That's I'm cooking ...</td>\n",
       "      <td>Positive</td>\n",
       "    </tr>\n",
       "    <tr>\n",
       "      <th>1</th>\n",
       "      <td>This help eating healthy exercise regular basis</td>\n",
       "      <td>Positive</td>\n",
       "    </tr>\n",
       "    <tr>\n",
       "      <th>2</th>\n",
       "      <td>NaN</td>\n",
       "      <td>NaN</td>\n",
       "    </tr>\n",
       "    <tr>\n",
       "      <th>3</th>\n",
       "      <td>Works great especially going grocery store</td>\n",
       "      <td>Positive</td>\n",
       "    </tr>\n",
       "    <tr>\n",
       "      <th>4</th>\n",
       "      <td>Best idea us</td>\n",
       "      <td>Positive</td>\n",
       "    </tr>\n",
       "  </tbody>\n",
       "</table>\n",
       "</div>"
      ],
      "text/plain": [
       "                                   Translated_Review Sentiment\n",
       "0  I like eat delicious food. That's I'm cooking ...  Positive\n",
       "1    This help eating healthy exercise regular basis  Positive\n",
       "2                                                NaN       NaN\n",
       "3         Works great especially going grocery store  Positive\n",
       "4                                       Best idea us  Positive"
      ]
     },
     "execution_count": 76,
     "metadata": {},
     "output_type": "execute_result"
    }
   ],
   "source": [
    "import pandas as pd\n",
    "# load data\n",
    "df = pd.read_csv('google.csv', usecols=['Translated_Review', 'Sentiment'])\n",
    "df.head()"
   ]
  },
  {
   "cell_type": "code",
   "execution_count": 77,
   "metadata": {},
   "outputs": [
    {
     "data": {
      "text/html": [
       "<div>\n",
       "<style scoped>\n",
       "    .dataframe tbody tr th:only-of-type {\n",
       "        vertical-align: middle;\n",
       "    }\n",
       "\n",
       "    .dataframe tbody tr th {\n",
       "        vertical-align: top;\n",
       "    }\n",
       "\n",
       "    .dataframe thead th {\n",
       "        text-align: right;\n",
       "    }\n",
       "</style>\n",
       "<table border=\"1\" class=\"dataframe\">\n",
       "  <thead>\n",
       "    <tr style=\"text-align: right;\">\n",
       "      <th></th>\n",
       "      <th>Translated_Review</th>\n",
       "      <th>Sentiment</th>\n",
       "      <th>Text (Clean)</th>\n",
       "    </tr>\n",
       "  </thead>\n",
       "  <tbody>\n",
       "    <tr>\n",
       "      <th>0</th>\n",
       "      <td>I like eat delicious food. That's I'm cooking ...</td>\n",
       "      <td>Positive</td>\n",
       "      <td>[like, eat, delici, food, that, cook, food, my...</td>\n",
       "    </tr>\n",
       "    <tr>\n",
       "      <th>1</th>\n",
       "      <td>This help eating healthy exercise regular basis</td>\n",
       "      <td>Positive</td>\n",
       "      <td>[help, eat, healthi, exercis, regular, basi]</td>\n",
       "    </tr>\n",
       "    <tr>\n",
       "      <th>2</th>\n",
       "      <td>NaN</td>\n",
       "      <td>NaN</td>\n",
       "      <td>[nan]</td>\n",
       "    </tr>\n",
       "    <tr>\n",
       "      <th>3</th>\n",
       "      <td>Works great especially going grocery store</td>\n",
       "      <td>Positive</td>\n",
       "      <td>[work, great, especi, go, groceri, store]</td>\n",
       "    </tr>\n",
       "    <tr>\n",
       "      <th>4</th>\n",
       "      <td>Best idea us</td>\n",
       "      <td>Positive</td>\n",
       "      <td>[best, idea]</td>\n",
       "    </tr>\n",
       "  </tbody>\n",
       "</table>\n",
       "</div>"
      ],
      "text/plain": [
       "                                   Translated_Review Sentiment  \\\n",
       "0  I like eat delicious food. That's I'm cooking ...  Positive   \n",
       "1    This help eating healthy exercise regular basis  Positive   \n",
       "2                                                NaN       NaN   \n",
       "3         Works great especially going grocery store  Positive   \n",
       "4                                       Best idea us  Positive   \n",
       "\n",
       "                                        Text (Clean)  \n",
       "0  [like, eat, delici, food, that, cook, food, my...  \n",
       "1       [help, eat, healthi, exercis, regular, basi]  \n",
       "2                                              [nan]  \n",
       "3          [work, great, especi, go, groceri, store]  \n",
       "4                                       [best, idea]  "
      ]
     },
     "execution_count": 77,
     "metadata": {},
     "output_type": "execute_result"
    }
   ],
   "source": [
    "from gensim.parsing.preprocessing import remove_stopwords, strip_punctuation \\\n",
    "                                        , preprocess_string, strip_short, stem_text\n",
    "\n",
    "# preprocess given text\n",
    "def preprocess(text):\n",
    "    \n",
    "    # clean text based on given filters\n",
    "    CUSTOM_FILTERS = [lambda x: x.lower(), \n",
    "                                remove_stopwords, \n",
    "                                strip_punctuation, \n",
    "                                strip_short, \n",
    "                                stem_text]\n",
    "    text = preprocess_string(text, CUSTOM_FILTERS)\n",
    "    \n",
    "    return text\n",
    "\n",
    "# apply function to all reviews \n",
    "df['Text (Clean)'] = df['Translated_Review'].astype(str).apply(lambda x: preprocess(x))\n",
    "# preview of dataset\n",
    "df.head()"
   ]
  },
  {
   "cell_type": "code",
   "execution_count": 79,
   "metadata": {},
   "outputs": [],
   "source": [
    "from gensim import corpora\n",
    "\n",
    "# create a dictionary with the corpus\n",
    "corpus = df['Text (Clean)']\n",
    "dictionary = corpora.Dictionary(corpus)\n",
    "\n",
    "# convert corpus into a bag of words\n",
    "bow = [dictionary.doc2bow(text) for text in corpus]"
   ]
  },
  {
   "cell_type": "code",
   "execution_count": 80,
   "metadata": {
    "scrolled": true
   },
   "outputs": [
    {
     "name": "stdout",
     "output_type": "stream",
     "text": [
      "Coherence score with 2 clusters: 0.34426645115129806\n",
      "Coherence score with 3 clusters: 0.3681478010605416\n",
      "Coherence score with 4 clusters: 0.683238411581832\n",
      "Coherence score with 5 clusters: 0.3653195497164906\n",
      "Coherence score with 6 clusters: 0.6739615185054532\n",
      "Coherence score with 7 clusters: 0.4085647287332402\n",
      "Coherence score with 8 clusters: 0.6589024684745137\n",
      "Coherence score with 9 clusters: 0.6684160150886755\n",
      "Coherence score with 10 clusters: 0.41903843120289463\n"
     ]
    }
   ],
   "source": [
    "from gensim.models import LsiModel\n",
    "from gensim.models.coherencemodel import CoherenceModel\n",
    "\n",
    "# find the coherence score with a different number of topics\n",
    "for i in range(2,11):\n",
    "    lsi = LsiModel(bow, num_topics=i, id2word=dictionary)\n",
    "    coherence_model = CoherenceModel(model=lsi, texts=df['Text (Clean)'], dictionary=dictionary, coherence='c_v')\n",
    "    coherence_score = coherence_model.get_coherence()\n",
    "    print('Coherence score with {} clusters: {}'.format(i, coherence_score))"
   ]
  },
  {
   "cell_type": "code",
   "execution_count": null,
   "metadata": {},
   "outputs": [],
   "source": [
    "# perform SVD on the bag of words with the LsiModel to extract 2 topics\n",
    "lsi = LsiModel(bow, num_topics=2, id2word=dictionary)"
   ]
  },
  {
   "cell_type": "code",
   "execution_count": null,
   "metadata": {
    "scrolled": true
   },
   "outputs": [],
   "source": [
    "# find the 5 words with the strongest association to the derived topics\n",
    "for topic_num, words in lsi.print_topics(num_words=6):\n",
    "    print('Words in {}: {}.'.format(topic_num, words))"
   ]
  },
  {
   "cell_type": "code",
   "execution_count": null,
   "metadata": {
    "scrolled": true
   },
   "outputs": [],
   "source": [
    "from collections import Counter\n",
    "# find the scores given between the review and each topic\n",
    "corpus_lsi = lsi[bow]\n",
    "score1 = []\n",
    "score2 = []\n",
    "for doc in corpus_lsi:\n",
    "    score1.append(doc)\n",
    "    \n",
    "# create data frame that shows scores assigned for both topics for each review\n",
    "df_topic = pd.DataFrame()\n",
    "df_topic['Text'] = df['Translated_Review']\n",
    "df_topic['Topic'] = score1\n",
    "df_topic.head(10)"
   ]
  },
  {
   "cell_type": "code",
   "execution_count": null,
   "metadata": {},
   "outputs": [],
   "source": [
    "# find a sample review from each topic\n",
    "\n",
    "print('Sample text from topic 0:\\n {}'.format(df_topic.sample(1, random_state=3)['Text'].values))\n"
   ]
  },
  {
   "cell_type": "markdown",
   "metadata": {},
   "source": [
    "<div class=\"alert alert-block alert-info\">\n",
    "5. CASOS DE USO\n",
    "</div>"
   ]
  },
  {
   "cell_type": "markdown",
   "metadata": {},
   "source": [
    "Nessa seção, você aplicará sua implementação em pelo menos dois casos: um é o caso descrito nas referências, e outro, um caso similar que você encontrará e testará sua implementação. __Cuidado para evitar casos iguais aos demais colegas!__"
   ]
  }
 ],
 "metadata": {
  "kernelspec": {
   "display_name": "Python 3",
   "language": "python",
   "name": "python3"
  },
  "language_info": {
   "codemirror_mode": {
    "name": "ipython",
    "version": 3
   },
   "file_extension": ".py",
   "mimetype": "text/x-python",
   "name": "python",
   "nbconvert_exporter": "python",
   "pygments_lexer": "ipython3",
   "version": "3.7.6"
  }
 },
 "nbformat": 4,
 "nbformat_minor": 4
}
